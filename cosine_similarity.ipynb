{
 "cells": [
  {
   "cell_type": "markdown",
   "metadata": {},
   "source": [
    "# Homework 1- Solution\n",
    "\n",
    "Name: <b>Chetan</b>\n",
    "\n",
    "Foundations Program, ktf-c1"
   ]
  },
  {
   "cell_type": "markdown",
   "metadata": {},
   "source": [
    "# Answer - Question 1"
   ]
  },
  {
   "cell_type": "markdown",
   "metadata": {},
   "source": [
    "## (1.1) Running tests for the Vector classes defined in Vector_Class.py"
   ]
  },
  {
   "cell_type": "code",
   "execution_count": 10,
   "metadata": {},
   "outputs": [
    {
     "name": "stdout",
     "output_type": "stream",
     "text": [
      "Trying:\n",
      "    v1 = Vector([4,2,7])\n",
      "Expecting nothing\n",
      "ok\n",
      "Trying:\n",
      "    v2 = Vector([1,-1,3])\n",
      "Expecting nothing\n",
      "ok\n",
      "Trying:\n",
      "    v1 + v2\n",
      "Expecting:\n",
      "    array([ 5,  1, 10])\n",
      "ok\n",
      "Trying:\n",
      "    v1 + [-1,-1, 3]\n",
      "Expecting:\n",
      "    array([ 3,  1, 10])\n",
      "ok\n",
      "Trying:\n",
      "    [-1, -1, 3] + v1\n",
      "Expecting:\n",
      "    array([ 3,  1, 10])\n",
      "ok\n",
      "Trying:\n",
      "    v1 + range(3)\n",
      "Expecting:\n",
      "    array([4, 3, 9])\n",
      "ok\n",
      "Trying:\n",
      "    v1 + range(2)\n",
      "Expecting:\n",
      "    array([4, 3, 7])\n",
      "ok\n",
      "Trying:\n",
      "    range(2) + v1\n",
      "Expecting:\n",
      "    array([4, 3, 7])\n",
      "ok\n",
      "Trying:\n",
      "    λ = 3\n",
      "Expecting nothing\n",
      "ok\n",
      "Trying:\n",
      "    v1*λ\n",
      "Expecting:\n",
      "    array([12,  6, 21])\n",
      "ok\n",
      "Trying:\n",
      "    λ*v1\n",
      "Expecting:\n",
      "    array([12,  6, 21])\n",
      "ok\n",
      "Trying:\n",
      "    v1@v2\n",
      "Expecting:\n",
      "    23\n",
      "ok\n",
      "Trying:\n",
      "    v2@v1\n",
      "Expecting:\n",
      "    23\n",
      "ok\n",
      "Trying:\n",
      "    v1 @ [-1, -1, 3]\n",
      "Expecting:\n",
      "    15\n",
      "ok\n",
      "Trying:\n",
      "    [-1, -1, 3]@v1\n",
      "Expecting:\n",
      "    15\n",
      "ok\n",
      "Trying:\n",
      "    v1.dot(v2)\n",
      "Expecting:\n",
      "    23\n",
      "ok\n",
      "Trying:\n",
      "    v1.magnitude()\n",
      "Expecting:\n",
      "    8.306623862918075\n",
      "ok\n",
      "Trying:\n",
      "    v2.magnitude()\n",
      "Expecting:\n",
      "    3.3166247903554\n",
      "ok\n",
      "Trying:\n",
      "    v1.cos(v2)\n",
      "Expecting:\n",
      "    0.835\n",
      "ok\n",
      "Trying:\n",
      "    v = Vector(range(10))\n",
      "Expecting nothing\n",
      "ok\n",
      "Trying:\n",
      "    len(v)\n",
      "Expecting:\n",
      "    10\n",
      "ok\n",
      "Trying:\n",
      "    pad_vectors(range(2), range(5,10))\n",
      "Expecting:\n",
      "    ([0, 1, 0, 0, 0], [5, 6, 7, 8, 9])\n",
      "ok\n",
      "Trying:\n",
      "    pad_vectors([1, 2, 3], range(10))\n",
      "Expecting:\n",
      "    ([1, 2, 3, 0, 0, 0, 0, 0, 0, 0], [0, 1, 2, 3, 4, 5, 6, 7, 8, 9])\n",
      "ok\n",
      "13 items had no tests:\n",
      "    Vectors.Vector\n",
      "    Vectors.Vector.__add__\n",
      "    Vectors.Vector.__getitem__\n",
      "    Vectors.Vector.__init__\n",
      "    Vectors.Vector.__matmul__\n",
      "    Vectors.Vector.__mul__\n",
      "    Vectors.Vector.__radd__\n",
      "    Vectors.Vector.__repr__\n",
      "    Vectors.Vector.__rmatmul__\n",
      "    Vectors.Vector.__rmul__\n",
      "    Vectors.Vector.cos\n",
      "    Vectors.Vector.dot\n",
      "    Vectors.Vector.magnitude\n",
      "3 items passed all tests:\n",
      "  19 tests in Vectors\n",
      "   2 tests in Vectors.Vector.__len__\n",
      "   2 tests in Vectors.pad_vectors\n",
      "23 tests in 16 items.\n",
      "23 passed and 0 failed.\n",
      "Test passed.\n"
     ]
    },
    {
     "data": {
      "text/plain": [
       "TestResults(failed=0, attempted=23)"
      ]
     },
     "execution_count": 10,
     "metadata": {},
     "output_type": "execute_result"
    }
   ],
   "source": [
    "#Vector_Class.py contains class and methods for Vector Operations\n",
    "import Vectors\n",
    "from Vectors import Vector\n",
    "import doctest\n",
    "import numpy as np\n",
    "doctest.testmod(Vectors,verbose=True)"
   ]
  },
  {
   "cell_type": "markdown",
   "metadata": {},
   "source": [
    "## (1.2) Defining helper functions for making the required Word Sets for the Plays"
   ]
  },
  {
   "cell_type": "code",
   "execution_count": 11,
   "metadata": {},
   "outputs": [],
   "source": [
    "stopwords = ['also','sir','personã¦','my','“the','gave','hees','“my','often', 'twere','much','sometimes','hath','say','ligarius\\x9d','aside', 'told','whiles','knew','bring','cause','whats','heres','dost','exit','said','lets','wherein','neither','canst','yea','indeed','shalt','yet','must','wherefore','enter','goes','oft','thus','didst','take','is','was','this','thats','act','let','enter''vpon','many','within','doth','put','wont','wouldst', 'wont','could', 'cannot', 'tis', 'thing','whereto','lookt','vsd','ith','giue','know','shall','come','comes','whose','would','alas','nay','though','hes','heerein','heeles','enough','another','may','thou','thee','lord','weeke', 'might', 'toward', 'sweaty', 'hast', 'Doth', 'make',\"his\",\"her\",'tis','therefore','actus','not','cassius','how','thats','thy','till','himselfe','them','there','get','whos','well','like','i', 'me', 'my', 'myself', 'we', 'That','our', 'For','ours', 'whos','ourselves', 'you', \"you're\", \"you've\", \"you'll\", \"you'd\", 'your', 'yours', 'yourself', 'yourselves', 'he', 'him', 'his', 'himself', 'she', \"she's\", 'her', 'hers', 'herself', 'it', \"it's\", 'its', 'itself', 'they', 'them', 'their', 'theirs', 'themselves', 'what', 'which', 'who', 'whom', 'this', 'it','whos','that', \"that'll\", 'these', 'those', 'am', 'is', 'are', 'was', 'were', 'be', 'been', 'being', 'have', 'has', 'had', 'having', 'do', 'does', 'did', 'doing', 'a', 'an', 'the', 'and', 'but', 'if', 'or', 'because', 'as', 'until', 'while', 'of', 'at', 'by', 'for', 'with', 'about', 'against', 'between', 'into', 'through', 'during', 'before', 'after', 'above', 'below', 'to', 'from', 'up', 'down', 'in', 'out', 'on', 'off', 'over', 'under', 'again', 'further', 'then', 'once', 'here', 'there', 'when', 'where', 'why', 'how', 'all', 'any', 'both', 'each', 'few', 'more', 'most', 'other', 'some', 'such', 'no', 'nor', 'not', 'only', 'own', 'same', 'so', 'than', 'too', 'very', 's', 't', 'can', 'will', 'just', 'don', \"don't\", 'should', \"should've\", 'now', 'd', 'll', 'm', 'o', 're', 've', 'y', 'ain', 'aren', \"aren't\", 'couldn', \"couldn't\", 'didn', \"didn't\", 'doesn', \"doesn't\", 'hadn', \"hadn't\", 'hasn', \"hasn't\", 'haven', \"haven't\", 'isn', \"isn't\", 'ma', 'mightn', \"mightn't\", 'mustn', \"mustn't\", 'needn', \"needn't\", 'shan', \"shan't\", 'shouldn', \"shouldn't\", 'wasn', \"wasn't\", 'weren', \"weren't\", 'won', \"won't\", 'wouldn', \"wouldn't\"]\n",
    "\n",
    "def wordListToFreqDict(wordlist):\n",
    "    \"\"\"\n",
    "       Converts List of words to Frequency Dictionary\n",
    "       \n",
    "       Input: List of words\n",
    "       Output : Dictionary of word:frequency of word in list\n",
    "    \"\"\"\n",
    "    wordfreq = [wordlist.count(p) for p in wordlist]\n",
    "    return dict(list(zip(wordlist,wordfreq)))\n",
    "\n",
    "def sortFreqDict(freqdict):\n",
    "    \"\"\"\n",
    "       Sorts Dictionary to show values in Descending order\n",
    "       Input: Frequency Dictionary\n",
    "       Output : Sorted List of Tuples with Value and Key in Descending Order\n",
    "    \"\"\"\n",
    "    aux = [(freqdict[key], key) for key in freqdict]\n",
    "    aux.sort()\n",
    "    aux.reverse()\n",
    "    return aux\n",
    "\n",
    "def removeStopWords(wordlist):\n",
    "    \"\"\"\n",
    "       Removes Stopwords from list\n",
    "       Input: List of words\n",
    "       Output : list of words without the stopwords defined in 'stopwords' list\n",
    "    \"\"\"\n",
    "    return [word for word in wordlist if word not in stopwords and len(word) > 2]\n",
    "\n",
    "def flattenList(wordlist):\n",
    "    \"\"\"\n",
    "       Converts a list of list into just one list\n",
    "       Input: List of list of words\n",
    "       Output : Flattened List with just one list containing all the words\n",
    "       \n",
    "    \"\"\"\n",
    "    return [item.lower() for sublist in wordlist if sublist for item in sublist]\n",
    "\n",
    "def removeSpecialCharacter(wordlist,string = \"&@#—%œ().,'’â€”[];™:-?12\\x934567890!^`\\~/_\"):\n",
    "    \"\"\"\n",
    "       Removes Special Characters from the words in the list\n",
    "       Input: Wordlist - list of words, string - all the special characters to be removed\n",
    "       Output : List of words without special characters\n",
    "       \n",
    "    \"\"\"\n",
    "    removetable = str.maketrans('', '', string)\n",
    "    return [word.translate(removetable) for word in wordlist]\n",
    "   \n",
    "\n",
    "def makeWordList(filename):\n",
    "    \"\"\"\n",
    "       Creates a list of all the words in the filename\n",
    "       Input: filename of the file to be read\n",
    "       Output : list of list of all the words in the file\n",
    "       \n",
    "    \"\"\"\n",
    "    fd = open(filename, encoding = \"utf-8\")\n",
    "    wordlist = flattenList([line.strip().split()for line in fd.readlines()])\n",
    "    fd.close()\n",
    "    wordlist = removeSpecialCharacter(wordlist)\n",
    "    wordlist = removeStopWords(wordlist)\n",
    "    return wordlist\n",
    " "
   ]
  },
  {
   "cell_type": "markdown",
   "metadata": {},
   "source": [
    "## (1.3) Creating a Union Set of all the words in the Plays\n",
    "\n",
    "1. play_word_sets <- dict{play:set of all the words in that play} \n",
    "2. all_words <- set of union of words in all play"
   ]
  },
  {
   "cell_type": "code",
   "execution_count": 12,
   "metadata": {},
   "outputs": [],
   "source": [
    "from os import listdir\n",
    "import os\n",
    "import pandas as pd\n",
    "\n",
    "data_folder = './data'\n",
    "\n",
    "all_words = set()\n",
    "play_word_sets = dict()\n",
    "for file in os.listdir(data_folder):\n",
    "    if file.endswith(\".txt\"):\n",
    "        play_word_sets[file] = set(makeWordList(\"data/\"+file)) #creating a dictionary with {Play:Set of all words in Play}\n",
    "\n",
    "#word union     \n",
    "all_words = set.union(*[play_word_sets[key] for key in play_word_sets]) "
   ]
  },
  {
   "cell_type": "markdown",
   "metadata": {},
   "source": [
    "## (1.4) Creating a dictionary to hold the union words and its frequency of occurence in the Plays\n",
    "\n",
    "1. w_list <- wordlist of all the words in the play\n",
    "2. freqdict <- frequency dictionary of the words in the play \n",
    "3. common_vocab <- overall frequency dict of the union words and its frequency of occurence in the Plays"
   ]
  },
  {
   "cell_type": "code",
   "execution_count": 13,
   "metadata": {},
   "outputs": [],
   "source": [
    "common_vocab = dict()\n",
    "for file in os.listdir(data_folder):\n",
    "    if file.endswith(\".txt\"):\n",
    "        w_list = makeWordList(\"data/\"+file)\n",
    "        freqdict = wordListToFreqDict(w_list)\n",
    "        common_vocab[file.replace('.txt','')] = [freqdict[word] if word in w_list else 0 for word in all_words]"
   ]
  },
  {
   "cell_type": "markdown",
   "metadata": {},
   "source": [
    "## (1.5) Creating Dataframe of the Frequency Dictionary"
   ]
  },
  {
   "cell_type": "code",
   "execution_count": 14,
   "metadata": {},
   "outputs": [
    {
     "data": {
      "text/html": [
       "<div>\n",
       "<style scoped>\n",
       "    .dataframe tbody tr th:only-of-type {\n",
       "        vertical-align: middle;\n",
       "    }\n",
       "\n",
       "    .dataframe tbody tr th {\n",
       "        vertical-align: top;\n",
       "    }\n",
       "\n",
       "    .dataframe thead th {\n",
       "        text-align: right;\n",
       "    }\n",
       "</style>\n",
       "<table border=\"1\" class=\"dataframe\">\n",
       "  <thead>\n",
       "    <tr style=\"text-align: right;\">\n",
       "      <th></th>\n",
       "      <th>seruants</th>\n",
       "      <th>stopping</th>\n",
       "      <th>sending</th>\n",
       "      <th>truest</th>\n",
       "      <th>houres</th>\n",
       "      <th>calme</th>\n",
       "      <th>eyed</th>\n",
       "      <th>scathe</th>\n",
       "      <th>prudence</th>\n",
       "      <th>filchd</th>\n",
       "      <th>...</th>\n",
       "      <th>windlesses</th>\n",
       "      <th>succession</th>\n",
       "      <th>blubbering</th>\n",
       "      <th>sings</th>\n",
       "      <th>oretooke</th>\n",
       "      <th>arrivd</th>\n",
       "      <th>vnckle</th>\n",
       "      <th>puh</th>\n",
       "      <th>royally</th>\n",
       "      <th>curses</th>\n",
       "    </tr>\n",
       "  </thead>\n",
       "  <tbody>\n",
       "    <tr>\n",
       "      <td>A Midsummer Night's Dream</td>\n",
       "      <td>0</td>\n",
       "      <td>0</td>\n",
       "      <td>0</td>\n",
       "      <td>3</td>\n",
       "      <td>0</td>\n",
       "      <td>0</td>\n",
       "      <td>0</td>\n",
       "      <td>0</td>\n",
       "      <td>0</td>\n",
       "      <td>1</td>\n",
       "      <td>...</td>\n",
       "      <td>0</td>\n",
       "      <td>0</td>\n",
       "      <td>0</td>\n",
       "      <td>2</td>\n",
       "      <td>0</td>\n",
       "      <td>0</td>\n",
       "      <td>0</td>\n",
       "      <td>0</td>\n",
       "      <td>0</td>\n",
       "      <td>1</td>\n",
       "    </tr>\n",
       "    <tr>\n",
       "      <td>Hamlet</td>\n",
       "      <td>2</td>\n",
       "      <td>1</td>\n",
       "      <td>2</td>\n",
       "      <td>0</td>\n",
       "      <td>2</td>\n",
       "      <td>1</td>\n",
       "      <td>0</td>\n",
       "      <td>0</td>\n",
       "      <td>0</td>\n",
       "      <td>0</td>\n",
       "      <td>...</td>\n",
       "      <td>1</td>\n",
       "      <td>2</td>\n",
       "      <td>0</td>\n",
       "      <td>4</td>\n",
       "      <td>1</td>\n",
       "      <td>0</td>\n",
       "      <td>3</td>\n",
       "      <td>2</td>\n",
       "      <td>1</td>\n",
       "      <td>0</td>\n",
       "    </tr>\n",
       "    <tr>\n",
       "      <td>Julius Caesar</td>\n",
       "      <td>0</td>\n",
       "      <td>0</td>\n",
       "      <td>0</td>\n",
       "      <td>0</td>\n",
       "      <td>0</td>\n",
       "      <td>0</td>\n",
       "      <td>0</td>\n",
       "      <td>0</td>\n",
       "      <td>0</td>\n",
       "      <td>0</td>\n",
       "      <td>...</td>\n",
       "      <td>0</td>\n",
       "      <td>0</td>\n",
       "      <td>0</td>\n",
       "      <td>1</td>\n",
       "      <td>0</td>\n",
       "      <td>1</td>\n",
       "      <td>0</td>\n",
       "      <td>0</td>\n",
       "      <td>0</td>\n",
       "      <td>0</td>\n",
       "    </tr>\n",
       "    <tr>\n",
       "      <td>Romeo and Juliet</td>\n",
       "      <td>0</td>\n",
       "      <td>0</td>\n",
       "      <td>1</td>\n",
       "      <td>0</td>\n",
       "      <td>0</td>\n",
       "      <td>0</td>\n",
       "      <td>0</td>\n",
       "      <td>1</td>\n",
       "      <td>1</td>\n",
       "      <td>0</td>\n",
       "      <td>...</td>\n",
       "      <td>0</td>\n",
       "      <td>0</td>\n",
       "      <td>2</td>\n",
       "      <td>3</td>\n",
       "      <td>0</td>\n",
       "      <td>0</td>\n",
       "      <td>0</td>\n",
       "      <td>0</td>\n",
       "      <td>0</td>\n",
       "      <td>0</td>\n",
       "    </tr>\n",
       "    <tr>\n",
       "      <td>The Merchant of Venice</td>\n",
       "      <td>0</td>\n",
       "      <td>0</td>\n",
       "      <td>0</td>\n",
       "      <td>0</td>\n",
       "      <td>0</td>\n",
       "      <td>0</td>\n",
       "      <td>0</td>\n",
       "      <td>0</td>\n",
       "      <td>0</td>\n",
       "      <td>0</td>\n",
       "      <td>...</td>\n",
       "      <td>0</td>\n",
       "      <td>0</td>\n",
       "      <td>0</td>\n",
       "      <td>2</td>\n",
       "      <td>0</td>\n",
       "      <td>0</td>\n",
       "      <td>0</td>\n",
       "      <td>0</td>\n",
       "      <td>0</td>\n",
       "      <td>0</td>\n",
       "    </tr>\n",
       "  </tbody>\n",
       "</table>\n",
       "<p>5 rows × 11798 columns</p>\n",
       "</div>"
      ],
      "text/plain": [
       "                           seruants  stopping  sending  truest  houres  calme  \\\n",
       "A Midsummer Night's Dream         0         0        0       3       0      0   \n",
       "Hamlet                            2         1        2       0       2      1   \n",
       "Julius Caesar                     0         0        0       0       0      0   \n",
       "Romeo and Juliet                  0         0        1       0       0      0   \n",
       "The Merchant of Venice            0         0        0       0       0      0   \n",
       "\n",
       "                           eyed  scathe  prudence  filchd  ...  windlesses  \\\n",
       "A Midsummer Night's Dream     0       0         0       1  ...           0   \n",
       "Hamlet                        0       0         0       0  ...           1   \n",
       "Julius Caesar                 0       0         0       0  ...           0   \n",
       "Romeo and Juliet              0       1         1       0  ...           0   \n",
       "The Merchant of Venice        0       0         0       0  ...           0   \n",
       "\n",
       "                           succession  blubbering  sings  oretooke  arrivd  \\\n",
       "A Midsummer Night's Dream           0           0      2         0       0   \n",
       "Hamlet                              2           0      4         1       0   \n",
       "Julius Caesar                       0           0      1         0       1   \n",
       "Romeo and Juliet                    0           2      3         0       0   \n",
       "The Merchant of Venice              0           0      2         0       0   \n",
       "\n",
       "                           vnckle  puh  royally  curses  \n",
       "A Midsummer Night's Dream       0    0        0       1  \n",
       "Hamlet                          3    2        1       0  \n",
       "Julius Caesar                   0    0        0       0  \n",
       "Romeo and Juliet                0    0        0       0  \n",
       "The Merchant of Venice          0    0        0       0  \n",
       "\n",
       "[5 rows x 11798 columns]"
      ]
     },
     "execution_count": 14,
     "metadata": {},
     "output_type": "execute_result"
    }
   ],
   "source": [
    "vocab_df = pd.DataFrame(common_vocab)\n",
    "vocab_df = vocab_df.transpose()\n",
    "vocab_df.columns = [word for word in all_words]\n",
    "vocab_df.head()"
   ]
  },
  {
   "cell_type": "markdown",
   "metadata": {},
   "source": [
    "## (1.6) Calculating the Cosine Similarity of the plays with each other\n",
    "\n",
    "I used the method Vector.cos() from the Vector Class in order to calculate cosine similarity. "
   ]
  },
  {
   "cell_type": "code",
   "execution_count": 15,
   "metadata": {},
   "outputs": [],
   "source": [
    "import pprint\n",
    "c_similarity = dict()\n",
    "for key in common_vocab:\n",
    "    A = Vector(common_vocab[key])\n",
    "    c_similarity[key]= [A.cos(Vector(common_vocab[key])) for key in common_vocab]"
   ]
  },
  {
   "cell_type": "markdown",
   "metadata": {},
   "source": [
    "## (1.7) Heatmap of the cosine similiarity of the Plays with each other\n",
    "\n",
    "### Inferences:\n",
    "1. A Midsummer Night's Dream is similar to Romeo & Juliet and The Merchant of Venice.\n",
    "2. Hamlet is most similar to The Tempest.\n",
    "3. Julius Caesar is most similar to The Merchant of Venice.\n",
    "4. The Tempest is more similar to The Merchant of Venice than it is with Hamlet.\n"
   ]
  },
  {
   "cell_type": "code",
   "execution_count": 16,
   "metadata": {},
   "outputs": [
    {
     "data": {
      "text/html": [
       "<style  type=\"text/css\" >\n",
       "    #T_a5c33f34_c432_11ea_9146_0c5415bafc9erow0_col0 {\n",
       "            background-color:  #08306b;\n",
       "            color:  #f1f1f1;\n",
       "        }    #T_a5c33f34_c432_11ea_9146_0c5415bafc9erow0_col1 {\n",
       "            background-color:  #edf4fc;\n",
       "            color:  #000000;\n",
       "        }    #T_a5c33f34_c432_11ea_9146_0c5415bafc9erow0_col2 {\n",
       "            background-color:  #e4eff9;\n",
       "            color:  #000000;\n",
       "        }    #T_a5c33f34_c432_11ea_9146_0c5415bafc9erow0_col3 {\n",
       "            background-color:  #cee0f2;\n",
       "            color:  #000000;\n",
       "        }    #T_a5c33f34_c432_11ea_9146_0c5415bafc9erow0_col4 {\n",
       "            background-color:  #d3e4f3;\n",
       "            color:  #000000;\n",
       "        }    #T_a5c33f34_c432_11ea_9146_0c5415bafc9erow0_col5 {\n",
       "            background-color:  #e5eff9;\n",
       "            color:  #000000;\n",
       "        }    #T_a5c33f34_c432_11ea_9146_0c5415bafc9erow1_col0 {\n",
       "            background-color:  #f7fbff;\n",
       "            color:  #000000;\n",
       "        }    #T_a5c33f34_c432_11ea_9146_0c5415bafc9erow1_col1 {\n",
       "            background-color:  #08306b;\n",
       "            color:  #f1f1f1;\n",
       "        }    #T_a5c33f34_c432_11ea_9146_0c5415bafc9erow1_col2 {\n",
       "            background-color:  #f7fbff;\n",
       "            color:  #000000;\n",
       "        }    #T_a5c33f34_c432_11ea_9146_0c5415bafc9erow1_col3 {\n",
       "            background-color:  #f7fbff;\n",
       "            color:  #000000;\n",
       "        }    #T_a5c33f34_c432_11ea_9146_0c5415bafc9erow1_col4 {\n",
       "            background-color:  #f7fbff;\n",
       "            color:  #000000;\n",
       "        }    #T_a5c33f34_c432_11ea_9146_0c5415bafc9erow1_col5 {\n",
       "            background-color:  #f7fbff;\n",
       "            color:  #000000;\n",
       "        }    #T_a5c33f34_c432_11ea_9146_0c5415bafc9erow2_col0 {\n",
       "            background-color:  #eef5fc;\n",
       "            color:  #000000;\n",
       "        }    #T_a5c33f34_c432_11ea_9146_0c5415bafc9erow2_col1 {\n",
       "            background-color:  #f7fbff;\n",
       "            color:  #000000;\n",
       "        }    #T_a5c33f34_c432_11ea_9146_0c5415bafc9erow2_col2 {\n",
       "            background-color:  #08306b;\n",
       "            color:  #f1f1f1;\n",
       "        }    #T_a5c33f34_c432_11ea_9146_0c5415bafc9erow2_col3 {\n",
       "            background-color:  #eef5fc;\n",
       "            color:  #000000;\n",
       "        }    #T_a5c33f34_c432_11ea_9146_0c5415bafc9erow2_col4 {\n",
       "            background-color:  #e7f0fa;\n",
       "            color:  #000000;\n",
       "        }    #T_a5c33f34_c432_11ea_9146_0c5415bafc9erow2_col5 {\n",
       "            background-color:  #f6faff;\n",
       "            color:  #000000;\n",
       "        }    #T_a5c33f34_c432_11ea_9146_0c5415bafc9erow3_col0 {\n",
       "            background-color:  #cfe1f2;\n",
       "            color:  #000000;\n",
       "        }    #T_a5c33f34_c432_11ea_9146_0c5415bafc9erow3_col1 {\n",
       "            background-color:  #eef5fc;\n",
       "            color:  #000000;\n",
       "        }    #T_a5c33f34_c432_11ea_9146_0c5415bafc9erow3_col2 {\n",
       "            background-color:  #e4eff9;\n",
       "            color:  #000000;\n",
       "        }    #T_a5c33f34_c432_11ea_9146_0c5415bafc9erow3_col3 {\n",
       "            background-color:  #08306b;\n",
       "            color:  #f1f1f1;\n",
       "        }    #T_a5c33f34_c432_11ea_9146_0c5415bafc9erow3_col4 {\n",
       "            background-color:  #d3e4f3;\n",
       "            color:  #000000;\n",
       "        }    #T_a5c33f34_c432_11ea_9146_0c5415bafc9erow3_col5 {\n",
       "            background-color:  #e7f0fa;\n",
       "            color:  #000000;\n",
       "        }    #T_a5c33f34_c432_11ea_9146_0c5415bafc9erow4_col0 {\n",
       "            background-color:  #d2e3f3;\n",
       "            color:  #000000;\n",
       "        }    #T_a5c33f34_c432_11ea_9146_0c5415bafc9erow4_col1 {\n",
       "            background-color:  #ebf3fb;\n",
       "            color:  #000000;\n",
       "        }    #T_a5c33f34_c432_11ea_9146_0c5415bafc9erow4_col2 {\n",
       "            background-color:  #dce9f6;\n",
       "            color:  #000000;\n",
       "        }    #T_a5c33f34_c432_11ea_9146_0c5415bafc9erow4_col3 {\n",
       "            background-color:  #d2e3f3;\n",
       "            color:  #000000;\n",
       "        }    #T_a5c33f34_c432_11ea_9146_0c5415bafc9erow4_col4 {\n",
       "            background-color:  #08306b;\n",
       "            color:  #f1f1f1;\n",
       "        }    #T_a5c33f34_c432_11ea_9146_0c5415bafc9erow4_col5 {\n",
       "            background-color:  #ddeaf7;\n",
       "            color:  #000000;\n",
       "        }    #T_a5c33f34_c432_11ea_9146_0c5415bafc9erow5_col0 {\n",
       "            background-color:  #e3eef8;\n",
       "            color:  #000000;\n",
       "        }    #T_a5c33f34_c432_11ea_9146_0c5415bafc9erow5_col1 {\n",
       "            background-color:  #eaf3fb;\n",
       "            color:  #000000;\n",
       "        }    #T_a5c33f34_c432_11ea_9146_0c5415bafc9erow5_col2 {\n",
       "            background-color:  #eaf2fb;\n",
       "            color:  #000000;\n",
       "        }    #T_a5c33f34_c432_11ea_9146_0c5415bafc9erow5_col3 {\n",
       "            background-color:  #e4eff9;\n",
       "            color:  #000000;\n",
       "        }    #T_a5c33f34_c432_11ea_9146_0c5415bafc9erow5_col4 {\n",
       "            background-color:  #ddeaf7;\n",
       "            color:  #000000;\n",
       "        }    #T_a5c33f34_c432_11ea_9146_0c5415bafc9erow5_col5 {\n",
       "            background-color:  #08306b;\n",
       "            color:  #f1f1f1;\n",
       "        }</style><table id=\"T_a5c33f34_c432_11ea_9146_0c5415bafc9e\" ><thead>    <tr>        <th class=\"blank level0\" ></th>        <th class=\"col_heading level0 col0\" >A Midsummer Night's Dream</th>        <th class=\"col_heading level0 col1\" >Hamlet</th>        <th class=\"col_heading level0 col2\" >Julius Caesar</th>        <th class=\"col_heading level0 col3\" >Romeo and Juliet</th>        <th class=\"col_heading level0 col4\" >The Merchant of Venice</th>        <th class=\"col_heading level0 col5\" >The Tempest</th>    </tr></thead><tbody>\n",
       "                <tr>\n",
       "                        <th id=\"T_a5c33f34_c432_11ea_9146_0c5415bafc9elevel0_row0\" class=\"row_heading level0 row0\" >A Midsummer Night's Dream</th>\n",
       "                        <td id=\"T_a5c33f34_c432_11ea_9146_0c5415bafc9erow0_col0\" class=\"data row0 col0\" >1</td>\n",
       "                        <td id=\"T_a5c33f34_c432_11ea_9146_0c5415bafc9erow0_col1\" class=\"data row0 col1\" >0.191</td>\n",
       "                        <td id=\"T_a5c33f34_c432_11ea_9146_0c5415bafc9erow0_col2\" class=\"data row0 col2\" >0.228</td>\n",
       "                        <td id=\"T_a5c33f34_c432_11ea_9146_0c5415bafc9erow0_col3\" class=\"data row0 col3\" >0.357</td>\n",
       "                        <td id=\"T_a5c33f34_c432_11ea_9146_0c5415bafc9erow0_col4\" class=\"data row0 col4\" >0.345</td>\n",
       "                        <td id=\"T_a5c33f34_c432_11ea_9146_0c5415bafc9erow0_col5\" class=\"data row0 col5\" >0.276</td>\n",
       "            </tr>\n",
       "            <tr>\n",
       "                        <th id=\"T_a5c33f34_c432_11ea_9146_0c5415bafc9elevel0_row1\" class=\"row_heading level0 row1\" >Hamlet</th>\n",
       "                        <td id=\"T_a5c33f34_c432_11ea_9146_0c5415bafc9erow1_col0\" class=\"data row1 col0\" >0.191</td>\n",
       "                        <td id=\"T_a5c33f34_c432_11ea_9146_0c5415bafc9erow1_col1\" class=\"data row1 col1\" >1</td>\n",
       "                        <td id=\"T_a5c33f34_c432_11ea_9146_0c5415bafc9erow1_col2\" class=\"data row1 col2\" >0.147</td>\n",
       "                        <td id=\"T_a5c33f34_c432_11ea_9146_0c5415bafc9erow1_col3\" class=\"data row1 col3\" >0.189</td>\n",
       "                        <td id=\"T_a5c33f34_c432_11ea_9146_0c5415bafc9erow1_col4\" class=\"data row1 col4\" >0.199</td>\n",
       "                        <td id=\"T_a5c33f34_c432_11ea_9146_0c5415bafc9erow1_col5\" class=\"data row1 col5\" >0.202</td>\n",
       "            </tr>\n",
       "            <tr>\n",
       "                        <th id=\"T_a5c33f34_c432_11ea_9146_0c5415bafc9elevel0_row2\" class=\"row_heading level0 row2\" >Julius Caesar</th>\n",
       "                        <td id=\"T_a5c33f34_c432_11ea_9146_0c5415bafc9erow2_col0\" class=\"data row2 col0\" >0.228</td>\n",
       "                        <td id=\"T_a5c33f34_c432_11ea_9146_0c5415bafc9erow2_col1\" class=\"data row2 col1\" >0.147</td>\n",
       "                        <td id=\"T_a5c33f34_c432_11ea_9146_0c5415bafc9erow2_col2\" class=\"data row2 col2\" >1</td>\n",
       "                        <td id=\"T_a5c33f34_c432_11ea_9146_0c5415bafc9erow2_col3\" class=\"data row2 col3\" >0.228</td>\n",
       "                        <td id=\"T_a5c33f34_c432_11ea_9146_0c5415bafc9erow2_col4\" class=\"data row2 col4\" >0.265</td>\n",
       "                        <td id=\"T_a5c33f34_c432_11ea_9146_0c5415bafc9erow2_col5\" class=\"data row2 col5\" >0.206</td>\n",
       "            </tr>\n",
       "            <tr>\n",
       "                        <th id=\"T_a5c33f34_c432_11ea_9146_0c5415bafc9elevel0_row3\" class=\"row_heading level0 row3\" >Romeo and Juliet</th>\n",
       "                        <td id=\"T_a5c33f34_c432_11ea_9146_0c5415bafc9erow3_col0\" class=\"data row3 col0\" >0.357</td>\n",
       "                        <td id=\"T_a5c33f34_c432_11ea_9146_0c5415bafc9erow3_col1\" class=\"data row3 col1\" >0.189</td>\n",
       "                        <td id=\"T_a5c33f34_c432_11ea_9146_0c5415bafc9erow3_col2\" class=\"data row3 col2\" >0.228</td>\n",
       "                        <td id=\"T_a5c33f34_c432_11ea_9146_0c5415bafc9erow3_col3\" class=\"data row3 col3\" >1</td>\n",
       "                        <td id=\"T_a5c33f34_c432_11ea_9146_0c5415bafc9erow3_col4\" class=\"data row3 col4\" >0.343</td>\n",
       "                        <td id=\"T_a5c33f34_c432_11ea_9146_0c5415bafc9erow3_col5\" class=\"data row3 col5\" >0.268</td>\n",
       "            </tr>\n",
       "            <tr>\n",
       "                        <th id=\"T_a5c33f34_c432_11ea_9146_0c5415bafc9elevel0_row4\" class=\"row_heading level0 row4\" >The Merchant of Venice</th>\n",
       "                        <td id=\"T_a5c33f34_c432_11ea_9146_0c5415bafc9erow4_col0\" class=\"data row4 col0\" >0.345</td>\n",
       "                        <td id=\"T_a5c33f34_c432_11ea_9146_0c5415bafc9erow4_col1\" class=\"data row4 col1\" >0.199</td>\n",
       "                        <td id=\"T_a5c33f34_c432_11ea_9146_0c5415bafc9erow4_col2\" class=\"data row4 col2\" >0.265</td>\n",
       "                        <td id=\"T_a5c33f34_c432_11ea_9146_0c5415bafc9erow4_col3\" class=\"data row4 col3\" >0.343</td>\n",
       "                        <td id=\"T_a5c33f34_c432_11ea_9146_0c5415bafc9erow4_col4\" class=\"data row4 col4\" >1</td>\n",
       "                        <td id=\"T_a5c33f34_c432_11ea_9146_0c5415bafc9erow4_col5\" class=\"data row4 col5\" >0.305</td>\n",
       "            </tr>\n",
       "            <tr>\n",
       "                        <th id=\"T_a5c33f34_c432_11ea_9146_0c5415bafc9elevel0_row5\" class=\"row_heading level0 row5\" >The Tempest</th>\n",
       "                        <td id=\"T_a5c33f34_c432_11ea_9146_0c5415bafc9erow5_col0\" class=\"data row5 col0\" >0.276</td>\n",
       "                        <td id=\"T_a5c33f34_c432_11ea_9146_0c5415bafc9erow5_col1\" class=\"data row5 col1\" >0.202</td>\n",
       "                        <td id=\"T_a5c33f34_c432_11ea_9146_0c5415bafc9erow5_col2\" class=\"data row5 col2\" >0.206</td>\n",
       "                        <td id=\"T_a5c33f34_c432_11ea_9146_0c5415bafc9erow5_col3\" class=\"data row5 col3\" >0.268</td>\n",
       "                        <td id=\"T_a5c33f34_c432_11ea_9146_0c5415bafc9erow5_col4\" class=\"data row5 col4\" >0.305</td>\n",
       "                        <td id=\"T_a5c33f34_c432_11ea_9146_0c5415bafc9erow5_col5\" class=\"data row5 col5\" >1</td>\n",
       "            </tr>\n",
       "    </tbody></table>"
      ],
      "text/plain": [
       "<pandas.io.formats.style.Styler at 0x1c4f5f39c88>"
      ]
     },
     "execution_count": 16,
     "metadata": {},
     "output_type": "execute_result"
    }
   ],
   "source": [
    "cosine_df = pd.DataFrame(c_similarity)\n",
    "cosine_df = cosine_df.transpose()\n",
    "cosine_df.columns = [\"A Midsummer Night's Dream\", 'Hamlet','Julius Caesar','Romeo and Juliet','The Merchant of Venice','The Tempest']\n",
    "cosine_df.index = [\"A Midsummer Night's Dream\", 'Hamlet','Julius Caesar','Romeo and Juliet','The Merchant of Venice','The Tempest']\n",
    "cosine_df.style.background_gradient(cmap='Blues')   "
   ]
  },
  {
   "cell_type": "markdown",
   "metadata": {},
   "source": [
    "## (1.8) How to find the saddest play?\n",
    "\n",
    "### High-level overview of the process:\n",
    "    1. For word in play:\n",
    "            if word's root or lemma is related to sadness:\n",
    "                assign score : -1\n",
    "            else:\n",
    "                assign score : +1\n",
    "    2. Compare the scores of all the plays, the one with the most negative score will be the saddest play. "
   ]
  },
  {
   "cell_type": "markdown",
   "metadata": {},
   "source": [
    "----------------------------------------------------------------------------------------------------------------"
   ]
  },
  {
   "cell_type": "markdown",
   "metadata": {},
   "source": [
    "## Problem 2 - Solution"
   ]
  },
  {
   "cell_type": "markdown",
   "metadata": {},
   "source": [
    "### numpy.ones()"
   ]
  },
  {
   "cell_type": "markdown",
   "metadata": {},
   "source": [
    "try creating an array of given shape, 2 and type int , with ones."
   ]
  },
  {
   "cell_type": "code",
   "execution_count": 17,
   "metadata": {},
   "outputs": [
    {
     "data": {
      "text/plain": [
       "array([1, 1])"
      ]
     },
     "execution_count": 17,
     "metadata": {},
     "output_type": "execute_result"
    }
   ],
   "source": [
    "a = np.ones(2, dtype = \"int\")\n",
    "a"
   ]
  },
  {
   "cell_type": "markdown",
   "metadata": {},
   "source": [
    "try creating an array of given shape, [3,3] and type int , with ones."
   ]
  },
  {
   "cell_type": "code",
   "execution_count": 18,
   "metadata": {},
   "outputs": [
    {
     "data": {
      "text/plain": [
       "array([[1, 1, 1],\n",
       "       [1, 1, 1],\n",
       "       [1, 1, 1]])"
      ]
     },
     "execution_count": 18,
     "metadata": {},
     "output_type": "execute_result"
    }
   ],
   "source": [
    "a = np.ones((3,3), dtype = \"int\")\n",
    "a"
   ]
  },
  {
   "cell_type": "markdown",
   "metadata": {},
   "source": [
    "### numpy.zeros()"
   ]
  },
  {
   "cell_type": "markdown",
   "metadata": {},
   "source": [
    "try creating an array of given shape, 4 and type int , with zeros."
   ]
  },
  {
   "cell_type": "code",
   "execution_count": 19,
   "metadata": {},
   "outputs": [
    {
     "data": {
      "text/plain": [
       "array([0, 0, 0, 0])"
      ]
     },
     "execution_count": 19,
     "metadata": {},
     "output_type": "execute_result"
    }
   ],
   "source": [
    "a = np.zeros(4, dtype = \"int\")\n",
    "a"
   ]
  },
  {
   "cell_type": "markdown",
   "metadata": {},
   "source": [
    "try creating an array of given shape, [2,2] and type int , with zeros."
   ]
  },
  {
   "cell_type": "code",
   "execution_count": 20,
   "metadata": {},
   "outputs": [
    {
     "data": {
      "text/plain": [
       "array([[0, 0],\n",
       "       [0, 0]])"
      ]
     },
     "execution_count": 20,
     "metadata": {},
     "output_type": "execute_result"
    }
   ],
   "source": [
    "a = np.zeros((2,2), dtype = \"int\")\n",
    "a"
   ]
  },
  {
   "cell_type": "markdown",
   "metadata": {},
   "source": [
    "Similarly, try updating the data type to float"
   ]
  },
  {
   "cell_type": "code",
   "execution_count": 21,
   "metadata": {},
   "outputs": [
    {
     "data": {
      "text/plain": [
       "array([[0., 0.],\n",
       "       [0., 0.]])"
      ]
     },
     "execution_count": 21,
     "metadata": {},
     "output_type": "execute_result"
    }
   ],
   "source": [
    "a = a.astype(\"float\")\n",
    "a"
   ]
  },
  {
   "cell_type": "markdown",
   "metadata": {},
   "source": [
    "### np.dtype()"
   ]
  },
  {
   "cell_type": "markdown",
   "metadata": {},
   "source": [
    "Create a datatype object of int16"
   ]
  },
  {
   "cell_type": "code",
   "execution_count": 22,
   "metadata": {},
   "outputs": [
    {
     "data": {
      "text/plain": [
       "dtype('int16')"
      ]
     },
     "execution_count": 22,
     "metadata": {},
     "output_type": "execute_result"
    }
   ],
   "source": [
    "st = np.dtype(np.int16)\n",
    "st"
   ]
  },
  {
   "cell_type": "markdown",
   "metadata": {},
   "source": [
    "### numpy.concatenate()"
   ]
  },
  {
   "cell_type": "code",
   "execution_count": 23,
   "metadata": {},
   "outputs": [],
   "source": [
    "import numpy as np\n",
    "a = np.array([[1,2],[3,4]]) \n",
    "b = np.array([[5,6],[7,8]]) \n"
   ]
  },
  {
   "cell_type": "markdown",
   "metadata": {},
   "source": [
    "concatenate the given two arrays into a single array along the axis 0"
   ]
  },
  {
   "cell_type": "code",
   "execution_count": 24,
   "metadata": {},
   "outputs": [
    {
     "data": {
      "text/plain": [
       "array([[1, 2],\n",
       "       [3, 4],\n",
       "       [5, 6],\n",
       "       [7, 8]])"
      ]
     },
     "execution_count": 24,
     "metadata": {},
     "output_type": "execute_result"
    }
   ],
   "source": [
    "np.concatenate((a,b),axis=0)"
   ]
  },
  {
   "cell_type": "markdown",
   "metadata": {},
   "source": [
    "concatenate the given two arrays into a single array along the axis 1"
   ]
  },
  {
   "cell_type": "code",
   "execution_count": 25,
   "metadata": {},
   "outputs": [
    {
     "data": {
      "text/plain": [
       "array([[1, 2, 5, 6],\n",
       "       [3, 4, 7, 8]])"
      ]
     },
     "execution_count": 25,
     "metadata": {},
     "output_type": "execute_result"
    }
   ],
   "source": [
    "np.concatenate((a,b),axis=1)"
   ]
  },
  {
   "cell_type": "markdown",
   "metadata": {},
   "source": [
    "### numpy.flatten()"
   ]
  },
  {
   "cell_type": "code",
   "execution_count": 26,
   "metadata": {},
   "outputs": [],
   "source": [
    "a = np.array([[1, 2, 3], [2, 4, 5], [1, 2, 3]]) "
   ]
  },
  {
   "cell_type": "code",
   "execution_count": 27,
   "metadata": {},
   "outputs": [
    {
     "data": {
      "text/plain": [
       "array([1, 2, 3, 2, 4, 5, 1, 2, 3])"
      ]
     },
     "execution_count": 27,
     "metadata": {},
     "output_type": "execute_result"
    }
   ],
   "source": [
    "a.flatten()"
   ]
  },
  {
   "cell_type": "markdown",
   "metadata": {},
   "source": [
    "### numpy.ravel()"
   ]
  },
  {
   "cell_type": "markdown",
   "metadata": {},
   "source": [
    "similarly flatten the given previous array to 1d array using numpy.ravel()"
   ]
  },
  {
   "cell_type": "code",
   "execution_count": 28,
   "metadata": {},
   "outputs": [
    {
     "data": {
      "text/plain": [
       "array([1, 2, 3, 2, 4, 5, 1, 2, 3])"
      ]
     },
     "execution_count": 28,
     "metadata": {},
     "output_type": "execute_result"
    }
   ],
   "source": [
    "a.ravel()"
   ]
  },
  {
   "cell_type": "code",
   "execution_count": null,
   "metadata": {},
   "outputs": [],
   "source": []
  }
 ],
 "metadata": {
  "kernelspec": {
   "display_name": "Python 3",
   "language": "python",
   "name": "python3"
  },
  "language_info": {
   "codemirror_mode": {
    "name": "ipython",
    "version": 3
   },
   "file_extension": ".py",
   "mimetype": "text/x-python",
   "name": "python",
   "nbconvert_exporter": "python",
   "pygments_lexer": "ipython3",
   "version": "3.7.4"
  }
 },
 "nbformat": 4,
 "nbformat_minor": 4
}
